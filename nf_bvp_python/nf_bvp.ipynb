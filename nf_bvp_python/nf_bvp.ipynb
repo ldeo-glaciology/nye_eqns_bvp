{
 "cells": [
  {
   "cell_type": "code",
   "execution_count": 2,
   "id": "recovered-determination",
   "metadata": {},
   "outputs": [],
   "source": [
    "import numpy as np\n",
    "import matplotlib.pyplot as plt\n",
    "from scipy.integrate import solve_bvp"
   ]
  },
  {
   "cell_type": "code",
   "execution_count": 12,
   "id": "executed-chamber",
   "metadata": {},
   "outputs": [],
   "source": [
    "# Get constants and stuff set up\n",
    "rho_w = 1000 # kg/m^3 (water density)\n",
    "rho_i = 900 #kg/m^3 (ice density)\n",
    "g = 10 # m/s^2 (gravitational acceleration)\n",
    "L = 3.3*10**5 # J/kg\n",
    "K0 = 10^-24 # Pa^-3 s^-2\n",
    "phi_s = 0.01 # surface slope\n",
    "psi_0 = rho_w*g*phi_s \n",
    "n_prime = 0.1 # m^-1/3 s (hydraulic roughness)\n",
    "f = 6.6*n_prime**2 \n",
    "s_to_y = 60*60*24*365.25 \n",
    "\n",
    "# Scales\n",
    "s0 = 10*10**3 # m\n",
    "Q0 = 1500 # m^3/s\n",
    "m0 = Q0*psi_0/L \n",
    "S0 = (f*rho_w*g*Q0**2/psi_0)**(3/8)\n",
    "N0 = (K0*rho_i*S0*L/(psi_0*Q0))**(-1/3)\n",
    "t0 = rho_i*S0*L/(psi_0*Q0)\n",
    "M0 = Q0/s0\n",
    "h0 = 90\n",
    "\n",
    "# Model Params\n",
    "eps = s0*m0/(Q0*rho_i)\n",
    "r = rho_i/rho_w\n",
    "delta = N0/(s0*psi_0)\n",
    "\n",
    "# Inputs\n",
    "Q_in = 10/Q0\n",
    "hL_pl1 = 1\n",
    "beta_r = 0.9\n",
    "\n",
    "tau_raw = 100000 # Pa\n",
    "tau = tau_raw/N0\n",
    "C = 2*10**-20 # For sliding law\n",
    "alpha = C*(N0**3)*t0/s0 # For sliding law\n",
    "\n",
    "# Need to adjust\n",
    "lda = 3.2\n",
    "psi = 1\n",
    "M = 0.00\n",
    "\n",
    "del_t = 0.1\n"
   ]
  },
  {
   "cell_type": "code",
   "execution_count": 23,
   "id": "polyphonic-blackjack",
   "metadata": {},
   "outputs": [],
   "source": [
    "grid_space = 100\n",
    "time_space = 1000\n",
    "\n",
    "h = np.zeros(time_space)\n",
    "S = np.zeros((time_space,grid_space))\n",
    "Q = np.zeros((time_space,grid_space))\n",
    "N = np.zeros((time_space,grid_space))\n",
    "u = np.zeros((time_space,grid_space))\n",
    "\n",
    "S[0,:] = 5*np.ones(grid_space)\n",
    "h[0] = 1/3\n",
    "NL = beta_r*(1-h[0])\n",
    "Nt = rho_i*g*1/N0\n",
    "x = np.linspace(0,1,grid_space)\n",
    "psi_var = psi*(1-3*np.exp(-20*x))\n"
   ]
  },
  {
   "cell_type": "code",
   "execution_count": 132,
   "id": "heated-things",
   "metadata": {},
   "outputs": [],
   "source": [
    "# initial guess\n",
    "y = np.zeros((2, x.size))\n",
    "y[0,:]= np.sin(x*np.pi)\n",
    "y[1,:]= 0.001 + M*x"
   ]
  },
  {
   "cell_type": "code",
   "execution_count": 133,
   "id": "amino-metabolism",
   "metadata": {},
   "outputs": [
    {
     "data": {
      "text/plain": [
       "array([[0.00000000e+00, 3.17279335e-02, 6.34239197e-02, 9.50560433e-02,\n",
       "        1.26592454e-01, 1.58001396e-01, 1.89251244e-01, 2.20310533e-01,\n",
       "        2.51147987e-01, 2.81732557e-01, 3.12033446e-01, 3.42020143e-01,\n",
       "        3.71662456e-01, 4.00930535e-01, 4.29794912e-01, 4.58226522e-01,\n",
       "        4.86196736e-01, 5.13677392e-01, 5.40640817e-01, 5.67059864e-01,\n",
       "        5.92907929e-01, 6.18158986e-01, 6.42787610e-01, 6.66769001e-01,\n",
       "        6.90079011e-01, 7.12694171e-01, 7.34591709e-01, 7.55749574e-01,\n",
       "        7.76146464e-01, 7.95761841e-01, 8.14575952e-01, 8.32569855e-01,\n",
       "        8.49725430e-01, 8.66025404e-01, 8.81453363e-01, 8.95993774e-01,\n",
       "        9.09631995e-01, 9.22354294e-01, 9.34147860e-01, 9.45000819e-01,\n",
       "        9.54902241e-01, 9.63842159e-01, 9.71811568e-01, 9.78802446e-01,\n",
       "        9.84807753e-01, 9.89821442e-01, 9.93838464e-01, 9.96854776e-01,\n",
       "        9.98867339e-01, 9.99874128e-01, 9.99874128e-01, 9.98867339e-01,\n",
       "        9.96854776e-01, 9.93838464e-01, 9.89821442e-01, 9.84807753e-01,\n",
       "        9.78802446e-01, 9.71811568e-01, 9.63842159e-01, 9.54902241e-01,\n",
       "        9.45000819e-01, 9.34147860e-01, 9.22354294e-01, 9.09631995e-01,\n",
       "        8.95993774e-01, 8.81453363e-01, 8.66025404e-01, 8.49725430e-01,\n",
       "        8.32569855e-01, 8.14575952e-01, 7.95761841e-01, 7.76146464e-01,\n",
       "        7.55749574e-01, 7.34591709e-01, 7.12694171e-01, 6.90079011e-01,\n",
       "        6.66769001e-01, 6.42787610e-01, 6.18158986e-01, 5.92907929e-01,\n",
       "        5.67059864e-01, 5.40640817e-01, 5.13677392e-01, 4.86196736e-01,\n",
       "        4.58226522e-01, 4.29794912e-01, 4.00930535e-01, 3.71662456e-01,\n",
       "        3.42020143e-01, 3.12033446e-01, 2.81732557e-01, 2.51147987e-01,\n",
       "        2.20310533e-01, 1.89251244e-01, 1.58001396e-01, 1.26592454e-01,\n",
       "        9.50560433e-02, 6.34239197e-02, 3.17279335e-02, 1.22464680e-16],\n",
       "       [1.00000000e-03, 1.00000000e-03, 1.00000000e-03, 1.00000000e-03,\n",
       "        1.00000000e-03, 1.00000000e-03, 1.00000000e-03, 1.00000000e-03,\n",
       "        1.00000000e-03, 1.00000000e-03, 1.00000000e-03, 1.00000000e-03,\n",
       "        1.00000000e-03, 1.00000000e-03, 1.00000000e-03, 1.00000000e-03,\n",
       "        1.00000000e-03, 1.00000000e-03, 1.00000000e-03, 1.00000000e-03,\n",
       "        1.00000000e-03, 1.00000000e-03, 1.00000000e-03, 1.00000000e-03,\n",
       "        1.00000000e-03, 1.00000000e-03, 1.00000000e-03, 1.00000000e-03,\n",
       "        1.00000000e-03, 1.00000000e-03, 1.00000000e-03, 1.00000000e-03,\n",
       "        1.00000000e-03, 1.00000000e-03, 1.00000000e-03, 1.00000000e-03,\n",
       "        1.00000000e-03, 1.00000000e-03, 1.00000000e-03, 1.00000000e-03,\n",
       "        1.00000000e-03, 1.00000000e-03, 1.00000000e-03, 1.00000000e-03,\n",
       "        1.00000000e-03, 1.00000000e-03, 1.00000000e-03, 1.00000000e-03,\n",
       "        1.00000000e-03, 1.00000000e-03, 1.00000000e-03, 1.00000000e-03,\n",
       "        1.00000000e-03, 1.00000000e-03, 1.00000000e-03, 1.00000000e-03,\n",
       "        1.00000000e-03, 1.00000000e-03, 1.00000000e-03, 1.00000000e-03,\n",
       "        1.00000000e-03, 1.00000000e-03, 1.00000000e-03, 1.00000000e-03,\n",
       "        1.00000000e-03, 1.00000000e-03, 1.00000000e-03, 1.00000000e-03,\n",
       "        1.00000000e-03, 1.00000000e-03, 1.00000000e-03, 1.00000000e-03,\n",
       "        1.00000000e-03, 1.00000000e-03, 1.00000000e-03, 1.00000000e-03,\n",
       "        1.00000000e-03, 1.00000000e-03, 1.00000000e-03, 1.00000000e-03,\n",
       "        1.00000000e-03, 1.00000000e-03, 1.00000000e-03, 1.00000000e-03,\n",
       "        1.00000000e-03, 1.00000000e-03, 1.00000000e-03, 1.00000000e-03,\n",
       "        1.00000000e-03, 1.00000000e-03, 1.00000000e-03, 1.00000000e-03,\n",
       "        1.00000000e-03, 1.00000000e-03, 1.00000000e-03, 1.00000000e-03,\n",
       "        1.00000000e-03, 1.00000000e-03, 1.00000000e-03, 1.00000000e-03]])"
      ]
     },
     "execution_count": 133,
     "metadata": {},
     "output_type": "execute_result"
    }
   ],
   "source": [
    "y"
   ]
  },
  {
   "cell_type": "code",
   "execution_count": 134,
   "id": "changed-reasoning",
   "metadata": {},
   "outputs": [],
   "source": [
    "# Setting up functions\n",
    "def Nye_NQ(x,y):\n",
    "    S_i_var = np.interp(x,np.linspace(0,1,grid_space),S_i)\n",
    "    S83 = S_i_var**(8/3)\n",
    "    psi_var_interp = np.interp(x,np.linspace(0,1,grid_space),psi_var)\n",
    "    return np.vstack(([(y[1]*np.abs(y[1])/S83 - psi_var_interp)/delta], \n",
    "                      [eps*(r-1)*np.abs(y[1])**3/S83 + eps*S_i_var*y[0]**3 + M]))"
   ]
  },
  {
   "cell_type": "code",
   "execution_count": 135,
   "id": "stock-treat",
   "metadata": {},
   "outputs": [],
   "source": [
    "# Setting up BCs\n",
    "def bc_N(ya,yb):\n",
    "    return np.array([ya[0]-NL, yb[0]-Nt])"
   ]
  },
  {
   "cell_type": "code",
   "execution_count": 136,
   "id": "aware-oakland",
   "metadata": {},
   "outputs": [
    {
     "name": "stdout",
     "output_type": "stream",
     "text": [
      "Singular Jacobian encountered when solving the collocation system on iteration 1. \n",
      "Maximum relative residual: 1.34e+00 \n",
      "Maximum boundary residual: 1.13e+14\n"
     ]
    }
   ],
   "source": [
    "# solve\n",
    "S_i = S[0,:]\n",
    "sol = solve_bvp(Nye_NQ, bc_N,x,y,tol=0.00000001,verbose=1)"
   ]
  },
  {
   "cell_type": "code",
   "execution_count": null,
   "id": "iraqi-dragon",
   "metadata": {},
   "outputs": [],
   "source": []
  }
 ],
 "metadata": {
  "kernelspec": {
   "display_name": "Python 3",
   "language": "python",
   "name": "python3"
  },
  "language_info": {
   "codemirror_mode": {
    "name": "ipython",
    "version": 3
   },
   "file_extension": ".py",
   "mimetype": "text/x-python",
   "name": "python",
   "nbconvert_exporter": "python",
   "pygments_lexer": "ipython3",
   "version": "3.8.6"
  }
 },
 "nbformat": 4,
 "nbformat_minor": 5
}
